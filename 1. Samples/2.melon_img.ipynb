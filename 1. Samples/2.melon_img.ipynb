{
 "cells": [
  {
   "cell_type": "markdown",
   "metadata": {},
   "source": [
    "## 멜론 플레이리스트 크롤링(feat.주다사)"
   ]
  },
  {
   "cell_type": "code",
   "execution_count": 42,
   "metadata": {
    "ExecuteTime": {
     "end_time": "2021-03-24T09:54:26.643215Z",
     "start_time": "2021-03-24T09:54:26.627177Z"
    }
   },
   "outputs": [],
   "source": [
    "from selenium import webdriver\n",
    "from selenium.webdriver import ActionChains\n",
    "from bs4 import BeautifulSoup\n",
    "import pandas as pd\n",
    "import re\n",
    "import time"
   ]
  },
  {
   "cell_type": "code",
   "execution_count": 43,
   "metadata": {
    "ExecuteTime": {
     "end_time": "2021-03-24T09:54:26.955109Z",
     "start_time": "2021-03-24T09:54:26.937994Z"
    }
   },
   "outputs": [],
   "source": [
    "link_sel = 'C:/Users/rsh15/Desktop/seunghuni/selenium'\n",
    "urll = 'https://www.melon.com/mymusic/dj/mymusicdjplaylistview_inform.htm?plylstSeq=466034240#params%5BplylstSeq%5D=466034240&po=pageObj&startIndex={}'\n",
    "save_dir = 'C:/Users/rsh15/Desktop/seunghuni/tistory_codes/1. Samples/2.melon_img/save_img{}.png'"
   ]
  },
  {
   "cell_type": "code",
   "execution_count": 44,
   "metadata": {
    "ExecuteTime": {
     "end_time": "2021-03-24T09:54:35.218107Z",
     "start_time": "2021-03-24T09:54:27.753745Z"
    }
   },
   "outputs": [],
   "source": [
    "# selenium browser 열고, 멜론 플레이리스트로 접속하기\n",
    "browser = webdriver.Chrome(link_sel+'/chromedriver.exe')\n",
    "browser.get(urll.format(1))\n",
    "browser.maximize_window()"
   ]
  },
  {
   "cell_type": "code",
   "execution_count": 45,
   "metadata": {
    "ExecuteTime": {
     "end_time": "2021-03-24T09:54:35.954294Z",
     "start_time": "2021-03-24T09:54:35.441490Z"
    }
   },
   "outputs": [
    {
     "data": {
      "text/plain": [
       "'992'"
      ]
     },
     "execution_count": 45,
     "metadata": {},
     "output_type": "execute_result"
    }
   ],
   "source": [
    "# 플레이 리스트의 총 노래개수\n",
    "html = browser.page_source\n",
    "\n",
    "soup = BeautifulSoup(html,'html.parser')\n",
    "summ_html = soup.find_all(class_='sum')[0].get_text()\n",
    "summ_text = re.sub('\\(|\\)','',summ_html)\n",
    "summ_text"
   ]
  },
  {
   "cell_type": "code",
   "execution_count": 46,
   "metadata": {
    "ExecuteTime": {
     "end_time": "2021-03-24T09:57:03.981452Z",
     "start_time": "2021-03-24T09:54:36.113730Z"
    }
   },
   "outputs": [],
   "source": [
    "for k in range(1,int(summ_text),10):\n",
    "    # url start_index 붙이기\n",
    "    url_new = urll.format(k)\n",
    "    \n",
    "    # 페이지 이동, 스크롤 내리기\n",
    "    browser.get(url_new)\n",
    "    browser.execute_script(\"window.scrollTo(0, 830);\")\n",
    "    \n",
    "    # 스크린샷 세이브\n",
    "    browser.save_screenshot(save_dir.format(k))"
   ]
  }
 ],
 "metadata": {
  "kernelspec": {
   "display_name": "simon_env",
   "language": "python",
   "name": "simon_env"
  },
  "language_info": {
   "codemirror_mode": {
    "name": "ipython",
    "version": 3
   },
   "file_extension": ".py",
   "mimetype": "text/x-python",
   "name": "python",
   "nbconvert_exporter": "python",
   "pygments_lexer": "ipython3",
   "version": "3.8.3"
  },
  "toc": {
   "base_numbering": 1,
   "nav_menu": {},
   "number_sections": true,
   "sideBar": true,
   "skip_h1_title": false,
   "title_cell": "Table of Contents",
   "title_sidebar": "Contents",
   "toc_cell": false,
   "toc_position": {},
   "toc_section_display": true,
   "toc_window_display": false
  },
  "varInspector": {
   "cols": {
    "lenName": 16,
    "lenType": 16,
    "lenVar": 40
   },
   "kernels_config": {
    "python": {
     "delete_cmd_postfix": "",
     "delete_cmd_prefix": "del ",
     "library": "var_list.py",
     "varRefreshCmd": "print(var_dic_list())"
    },
    "r": {
     "delete_cmd_postfix": ") ",
     "delete_cmd_prefix": "rm(",
     "library": "var_list.r",
     "varRefreshCmd": "cat(var_dic_list()) "
    }
   },
   "types_to_exclude": [
    "module",
    "function",
    "builtin_function_or_method",
    "instance",
    "_Feature"
   ],
   "window_display": false
  }
 },
 "nbformat": 4,
 "nbformat_minor": 4
}
